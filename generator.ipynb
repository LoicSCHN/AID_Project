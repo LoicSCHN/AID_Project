{
 "cells": [
  {
   "cell_type": "markdown",
   "metadata": {},
   "source": [
    "# Import    "
   ]
  },
  {
   "cell_type": "code",
   "execution_count": 121,
   "metadata": {},
   "outputs": [],
   "source": [
    "import random\n",
    "import csv"
   ]
  },
  {
   "cell_type": "markdown",
   "metadata": {},
   "source": [
    "# Générateur de préférence d'établissement et d'élèves"
   ]
  },
  {
   "cell_type": "markdown",
   "metadata": {},
   "source": [
    "Il faut commencer par choisir le nombre d'établisssements et d'élèves."
   ]
  },
  {
   "cell_type": "code",
   "execution_count": 122,
   "metadata": {},
   "outputs": [
    {
     "name": "stdout",
     "output_type": "stream",
     "text": [
      "Il y a 100 élèves et donc 100 établissements.\n"
     ]
    }
   ],
   "source": [
    "#n = int(input(\"Entrez le nombre d'élève et établissement : \"))\n",
    "n = 100\n",
    "print(\"Il y a\", n , \"élèves et donc\", n , \"établissements.\")"
   ]
  },
  {
   "cell_type": "markdown",
   "metadata": {},
   "source": [
    "Chaque élève classe tous les établissements et donc tous les établissements classent tous les élèves  \n",
    "\n",
    " * On commence par générer une liste de tous les élèves de 1 à n.  \n",
    " * Idem pour les établissements.  \n",
    " * On leur affecte une valeur de 1 au nombre d'élèves\n",
    "    "
   ]
  },
  {
   "cell_type": "code",
   "execution_count": 123,
   "metadata": {},
   "outputs": [],
   "source": [
    "listeEleve = []\n",
    "listeEtablissement = []\n",
    "\n",
    "\n",
    "for i in range(0,n):\n",
    "    listeEleve.append(i)\n",
    "    listeEtablissement.append(i)\n",
    "\n"
   ]
  },
  {
   "cell_type": "markdown",
   "metadata": {},
   "source": [
    "# On écrit dans un csv les préférences\n"
   ]
  },
  {
   "cell_type": "markdown",
   "metadata": {},
   "source": [
    "Ici on génère les préférences des élèves."
   ]
  },
  {
   "cell_type": "code",
   "execution_count": 124,
   "metadata": {},
   "outputs": [],
   "source": [
    "with open('fichierEleves.csv', 'w', newline='') as f:\n",
    "    # Créer un objet csv à partir du fichier\n",
    "    writter = csv.writer(f)\n",
    "    # On parcours la liste des élèves\n",
    "    for i in range(0,len(listeEleve)):  \n",
    "        # On mélange la liste \n",
    "        random.shuffle(listeEleve)  \n",
    "        # On écrit dans le csv les préférences aléatoires générées au dessus\n",
    "        writter.writerow(listeEleve)\n",
    "\n",
    "f.close()"
   ]
  },
  {
   "cell_type": "markdown",
   "metadata": {},
   "source": [
    "Et là les préférences des établissements."
   ]
  },
  {
   "cell_type": "code",
   "execution_count": 125,
   "metadata": {},
   "outputs": [],
   "source": [
    "with open('fichierEtablissements.csv', 'w', newline='') as f:\n",
    "    writter = csv.writer(f)\n",
    "    # On parcours la liste des établissements\n",
    "    for i in range(0,len(listeEtablissement)): \n",
    "        # On mélange la liste  \n",
    "        random.shuffle(listeEtablissement)  \n",
    "        # On écrit dans le csv les préférences aléatoires générées au dessus\n",
    "        writter.writerow(listeEtablissement)\n",
    "\n",
    "f.close()"
   ]
  }
 ],
 "metadata": {
  "kernelspec": {
   "display_name": "Python 3.9.13 64-bit (microsoft store)",
   "language": "python",
   "name": "python3"
  },
  "language_info": {
   "codemirror_mode": {
    "name": "ipython",
    "version": 3
   },
   "file_extension": ".py",
   "mimetype": "text/x-python",
   "name": "python",
   "nbconvert_exporter": "python",
   "pygments_lexer": "ipython3",
   "version": "3.9.13"
  },
  "orig_nbformat": 4,
  "vscode": {
   "interpreter": {
    "hash": "97c44cf44e3d708d6da6c2fbd410c28ed6483e3b88ef4439f6b7a943d084ade5"
   }
  }
 },
 "nbformat": 4,
 "nbformat_minor": 2
}
