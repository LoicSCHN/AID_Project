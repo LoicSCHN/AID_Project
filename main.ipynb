{
 "cells": [
  {
   "cell_type": "markdown",
   "metadata": {},
   "source": [
    "# Import"
   ]
  },
  {
   "cell_type": "code",
   "execution_count": null,
   "metadata": {},
   "outputs": [],
   "source": [
    "!pip install pandas"
   ]
  },
  {
   "cell_type": "code",
   "execution_count": null,
   "metadata": {},
   "outputs": [],
   "source": [
    "subprocess.check_call([sys.executable, \"-m\", \"pip\", \"install\", \"iteration_utilities\"])"
   ]
  },
  {
   "cell_type": "code",
   "execution_count": null,
   "metadata": {},
   "outputs": [],
   "source": [
    "import pandas as pd\n",
    "import subprocess\n",
    "from iteration_utilities import duplicates"
   ]
  },
  {
   "cell_type": "markdown",
   "metadata": {},
   "source": [
    "On appelle le générateur de préférence "
   ]
  },
  {
   "cell_type": "code",
   "execution_count": null,
   "metadata": {},
   "outputs": [],
   "source": [
    "subprocess.call(\"generator.py\", shell=True)"
   ]
  },
  {
   "cell_type": "markdown",
   "metadata": {},
   "source": [
    "# Variables"
   ]
  },
  {
   "cell_type": "markdown",
   "metadata": {},
   "source": [
    "Entrée : \n",
    "\n",
    "    Deux ensembles d'élèves et d'établissement avec leur préférence;\n",
    "\n",
    "    Une famille L de relations de préférences ;"
   ]
  },
  {
   "cell_type": "code",
   "execution_count": null,
   "metadata": {},
   "outputs": [],
   "source": [
    "prefEtudiant = pd.read_csv(\"fichierEleves.csv\", header=None, sep = \",\").values.tolist() \n",
    "\n",
    "prefEtablissement = pd.read_csv(\"fichierEtablissements.csv\", header=None, sep = \",\").values.tolist()"
   ]
  },
  {
   "cell_type": "markdown",
   "metadata": {},
   "source": [
    "# Algorithme"
   ]
  },
  {
   "cell_type": "markdown",
   "metadata": {},
   "source": [
    "\n",
    "Etape 0 : chaque élève soumet une liste ordonnée de vœux  \n",
    "Etape 1 : on ne considère que les vœux de rang 1  \n",
    " * chaque école considère les élèves qui l’ont classée en 1er vœu  \n",
    " * chaque école accepte temporairement les mieux classés dans la limite des places disponibles et rejette les autres.  \n",
    "\n",
    ". . .  \n",
    "\n",
    "Etape k : les élèves rejetés à l’étape précédente candidatent\n",
    "sur leur vœu suivant  \n",
    " * chaque école considère conjointement les élèves précédemment\n",
    "admis et les élèves lui faisant une offre à cette étape  \n",
    " * les mieux classés sont temporairement acceptés et les autres\n",
    "sont rejetés  \n",
    "L’algorithme se termine au bout d’un nombre fini d’itérations\n",
    "lorsque plus aucun élève n’est rejeté."
   ]
  },
  {
   "cell_type": "code",
   "execution_count": null,
   "metadata": {},
   "outputs": [],
   "source": [
    "def attribution(n, prefEtudiant, prefEtablissement):\n",
    "    print(\"Tous les étudiants sont libres au début : \")\n",
    "    etudiantLibre = list(range(n))\n",
    "    print(\"Liste des étudiants libres : \" ,etudiantLibre)\n",
    "    # Aucun étudiant n'a d'affectation\n",
    "    affectationEtudiant = [None] * n     \n",
    "    print(\"affectation étudiant \" ,affectationEtudiant)                 \n",
    "    # Aucun établissement n'a d'étudiant\n",
    "    affectationEtablissement = [None] * n  \n",
    "    print(\"affectation établissement \" ,affectationEtablissement)                    \n",
    "    # Aucun étudiant n'a fait de proposition on est donc sur le choix 1 (0) de chaque étudiant\n",
    "    suivant = [0] * n  \n",
    "    print(\"suivant : \" ,suivant)                     \n",
    "    etape = 0\n",
    "    # Tant que tous les étudiants n'ont pas d'affectation:\n",
    "    while etudiantLibre:\n",
    "        etape = etape +1\n",
    "        print(\"  \")\n",
    "        print(\"-------------------------------------------------------------------------------------------\")\n",
    "        print(\"  \")\n",
    "        print(\"Etape : \",etape)\n",
    "        # On prend le premier des étudiants lilbres\n",
    "        etudiant = etudiantLibre[0] \n",
    "        print(\"On prend l'etudiant : \",etudiant)                     \n",
    "        # On prend ses préférences\n",
    "        prefEtudiantLibre = prefEtudiant[etudiant]  \n",
    "        print(\"Préférences de l'étudiant \",etudiant,\" : \", prefEtudiantLibre)\n",
    "        # On prend le choix n de l'étudiant\n",
    "        etablissement = prefEtudiantLibre[suivant[etudiant]] \n",
    "        print(\"Le choix numéro : \",suivant[etudiant],\" de l'étudiant :  \",etudiant ,\" est  : \", etablissement)\n",
    "        # On prend le classement de l'élève\n",
    "        prefEtablissementEleve = prefEtablissement[etablissement]\n",
    "        print(\"Classement de l'élève : \", prefEtablissementEleve)\n",
    "        # On prend l'étudiant actuellement affecté à cet établissement\n",
    "        etudiantActuel = affectationEtablissement[etablissement]\n",
    "       \n",
    "        \n",
    "        if etudiantActuel == None:\n",
    "          #Si il n'y a pas d'étudiant déjà affecté à cet établissement la demande est accepté\n",
    "          affectationEtablissement[etablissement] = etudiant\n",
    "          affectationEtudiant[etudiant] = etablissement\n",
    "          print(\"Aucun étudiant n'est déjà affecté a cet établissement.\")\n",
    "          print(etudiant,\" affecté à l'établissement : \", etablissement)\n",
    "          print(\"Affectation des établissements : \",affectationEtablissement)\n",
    "          print(\"Affectation des étudiants : \",affectationEtudiant)\n",
    "          #Son choix suivant passe à la femme suivante dans sa liste\n",
    "          suivant[etudiant] = suivant[etudiant] + 1\n",
    "          #On l'enlève de la liste des étudiants libres\n",
    "          etudiantLibre.pop(0)\n",
    "        else:\n",
    "          #Si il y a déjà un étudiant affecté à cet établissement\n",
    "          print(\"Préférences de l'établissement : \", prefEtablissementEleve)\n",
    "          print(\"L'étudiant : \", etudiantActuel,\" est déja affecté à l'établissement \", etablissement)\n",
    "\n",
    "          # On regarde les préférences de l'établissement pour les 2 élèves\n",
    "          indexEtudiantActuel = prefEtablissementEleve.index(etudiantActuel)\n",
    "          \n",
    "          indexEtudiant2 = prefEtablissementEleve.index(etudiant)\n",
    "          \n",
    "          if indexEtudiantActuel > indexEtudiant2:\n",
    "             #L'établissement préfere le nouvel étudiant\n",
    "             print(etudiant,\" est préféré à \", etudiantActuel)\n",
    "             affectationEtablissement[etablissement] = etudiant\n",
    "             print(etudiant,\" affecté à l'établissement : \", etablissement)\n",
    "             affectationEtudiant[etudiant] = etablissement\n",
    "             suivant[etudiant] = suivant[etudiant] + 1\n",
    "             #On l'enlève de la liste des étudiants libres\n",
    "             etudiantLibre.pop(0)\n",
    "             #L'autre étudiant n'a plus d'établissement\n",
    "             etudiantLibre.insert(0,etudiantActuel)\n",
    "          else:\n",
    "            print(etudiantActuel,\" est préféré à \", etudiant)\n",
    "            print(\"Son choix \",suivant[etudiant],\" est refusé\")\n",
    "            suivant[etudiant] = suivant[etudiant] + 1\n",
    "             \n",
    "           \n",
    "    \n",
    "  \n",
    "    return affectationEtudiant"
   ]
  },
  {
   "cell_type": "markdown",
   "metadata": {},
   "source": [
    "Sortie :\n",
    "\n",
    "    Liste des affectations par couple"
   ]
  },
  {
   "cell_type": "code",
   "execution_count": null,
   "metadata": {},
   "outputs": [],
   "source": [
    "res = attribution(len(prefEtudiant), prefEtudiant, prefEtablissement)\n",
    "print(\"  \")\n",
    "print(\"----------------------------------RESULTATS-----------------------------------------\")\n",
    "print(\"  \")\n",
    "print(res)\n",
    "\n"
   ]
  },
  {
   "cell_type": "markdown",
   "metadata": {},
   "source": [
    "On teste s'il n'y a pas de doublons"
   ]
  },
  {
   "cell_type": "code",
   "execution_count": null,
   "metadata": {},
   "outputs": [],
   "source": [
    "print(list(duplicates(res)))\n",
    "# Si la fonction renvoie [] il n'y a pas de doublons"
   ]
  }
 ],
 "metadata": {
  "kernelspec": {
   "display_name": "Python 3.9.7 ('base')",
   "language": "python",
   "name": "python3"
  },
  "language_info": {
   "codemirror_mode": {
    "name": "ipython",
    "version": 3
   },
   "file_extension": ".py",
   "mimetype": "text/x-python",
   "name": "python",
   "nbconvert_exporter": "python",
   "pygments_lexer": "ipython3",
   "version": "3.9.7"
  },
  "orig_nbformat": 4,
  "vscode": {
   "interpreter": {
    "hash": "ad2bdc8ecc057115af97d19610ffacc2b4e99fae6737bb82f5d7fb13d2f2c186"
   }
  }
 },
 "nbformat": 4,
 "nbformat_minor": 2
}
