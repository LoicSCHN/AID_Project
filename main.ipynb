{
 "cells": [
  {
   "cell_type": "markdown",
   "metadata": {},
   "source": [
    "# Import"
   ]
  },
  {
   "cell_type": "code",
   "execution_count": 122,
   "metadata": {},
   "outputs": [
    {
     "name": "stdout",
     "output_type": "stream",
     "text": [
      "Requirement already satisfied: pandas in c:\\programdata\\anaconda3\\lib\\site-packages (1.3.4)\n",
      "Requirement already satisfied: python-dateutil>=2.7.3 in c:\\programdata\\anaconda3\\lib\\site-packages (from pandas) (2.8.2)\n",
      "Requirement already satisfied: numpy>=1.17.3 in c:\\programdata\\anaconda3\\lib\\site-packages (from pandas) (1.20.3)\n",
      "Requirement already satisfied: pytz>=2017.3 in c:\\programdata\\anaconda3\\lib\\site-packages (from pandas) (2021.3)\n",
      "Requirement already satisfied: six>=1.5 in c:\\programdata\\anaconda3\\lib\\site-packages (from python-dateutil>=2.7.3->pandas) (1.16.0)\n"
     ]
    }
   ],
   "source": [
    "!pip install pandas"
   ]
  },
  {
   "cell_type": "code",
   "execution_count": 123,
   "metadata": {},
   "outputs": [
    {
     "data": {
      "text/plain": [
       "0"
      ]
     },
     "execution_count": 123,
     "metadata": {},
     "output_type": "execute_result"
    }
   ],
   "source": [
    "import subprocess\n",
    "subprocess.check_call([sys.executable, \"-m\", \"pip\", \"install\", \"iteration_utilities\"])"
   ]
  },
  {
   "cell_type": "code",
   "execution_count": 124,
   "metadata": {},
   "outputs": [],
   "source": [
    "import pandas as pd\n",
    "\n",
    "from iteration_utilities import duplicates"
   ]
  },
  {
   "cell_type": "markdown",
   "metadata": {},
   "source": [
    "On appelle le generateur de preference "
   ]
  },
  {
   "cell_type": "code",
   "execution_count": 125,
   "metadata": {},
   "outputs": [
    {
     "data": {
      "text/plain": [
       "0"
      ]
     },
     "execution_count": 125,
     "metadata": {},
     "output_type": "execute_result"
    }
   ],
   "source": [
    "subprocess.call(\"generator.py\", shell=True)"
   ]
  },
  {
   "cell_type": "markdown",
   "metadata": {},
   "source": [
    "# Variables"
   ]
  },
  {
   "cell_type": "markdown",
   "metadata": {},
   "source": [
    "Entree : \n",
    "\n",
    "    Deux ensembles d'elèves et d'etablissement avec leur preference;\n",
    "\n",
    "    Une famille L de relations de preferences ;"
   ]
  },
  {
   "cell_type": "code",
   "execution_count": 126,
   "metadata": {},
   "outputs": [],
   "source": [
    "#prefEtudiant = pd.read_csv(\"fichierEleves.csv\", header=None, sep = \",\").values.tolist() \n",
    "\n",
    "#prefEtablissement = pd.read_csv(\"fichierEtablissements.csv\", header=None, sep = \",\").values.tolist()"
   ]
  },
  {
   "cell_type": "code",
   "execution_count": null,
   "metadata": {},
   "outputs": [],
   "source": [
    "prefEtudiant = pd.read_csv(\"fichierEtablissements.csv\", header=None, sep = \",\").values.tolist() \n",
    "\n",
    "prefEtablissement = pd.read_csv(\"fichierEleves.csv\", header=None, sep = \",\").values.tolist()"
   ]
  },
  {
   "cell_type": "markdown",
   "metadata": {},
   "source": [
    "# Algorithme"
   ]
  },
  {
   "cell_type": "markdown",
   "metadata": {},
   "source": [
    "\n",
    "Etape 0 : chaque elève soumet une liste ordonnee de vœux  \n",
    "Etape 1 : on ne considère que les vœux de rang 1  \n",
    " * chaque ecole considère les elèves qui l’ont classee en 1er vœu  \n",
    " * chaque ecole accepte temporairement les mieux classes dans la limite des places disponibles et rejette les autres.  \n",
    "\n",
    ". . .  \n",
    "\n",
    "Etape k : les elèves rejetes à l’etape precedente candidatent\n",
    "sur leur vœu suivant  \n",
    " * chaque ecole considère conjointement les elèves precedemment\n",
    "admis et les elèves lui faisant une offre à cette etape  \n",
    " * les mieux classes sont temporairement acceptes et les autres\n",
    "sont rejetes  \n",
    "L’algorithme se termine au bout d’un nombre fini d’iterations\n",
    "lorsque plus aucun elève n’est rejete."
   ]
  },
  {
   "cell_type": "code",
   "execution_count": 127,
   "metadata": {},
   "outputs": [],
   "source": [
    "file = open(\"resultat.txt\", \"w\") "
   ]
  },
  {
   "cell_type": "code",
   "execution_count": 128,
   "metadata": {},
   "outputs": [],
   "source": [
    "def attribution(n, prefEtudiant, prefEtablissement):\n",
    "    print(\"Tous les etudiants sont libres au debut : \", file=file)\n",
    "    etudiantLibre = list(range(n))\n",
    "    print(\"Liste des etudiants libres : {}\".format(etudiantLibre), file=file)\n",
    "    # Aucun etudiant n'a d'affectation\n",
    "    affectationEtudiant = [None] * n     \n",
    "    print(\"affectation etudiant {}\".format(affectationEtudiant), file=file)                 \n",
    "    # Aucun etablissement n'a d'etudiant\n",
    "    affectationEtablissement = [None] * n  \n",
    "    print(\"affectation etablissement {}\".format(affectationEtablissement), file=file)                    \n",
    "    # Aucun etudiant n'a fait de proposition on est donc sur le choix 1 (0) de chaque etudiant\n",
    "    suivant = [0] * n  \n",
    "    print(\"suivant : {}\".format(suivant), file=file)                     \n",
    "    etape = 0\n",
    "    # Tant que tous les etudiants n'ont pas d'affectation:\n",
    "    while etudiantLibre:\n",
    "        etape = etape +1\n",
    "        print(\"  \", file=file)\n",
    "        print(\"-------------------------------------------------------------------------------------------\", file=file)\n",
    "        print(\"  \", file=file)\n",
    "        print(\"Etape : {}\".format(etape), file=file)\n",
    "        # On prend le premier des etudiants lilbres\n",
    "        etudiant = etudiantLibre[0] \n",
    "        print(\"On prend l'etudiant : {}\".format(etudiant), file=file)                     \n",
    "        # On prend ses preferences\n",
    "        prefEtudiantLibre = prefEtudiant[etudiant]  \n",
    "        print(\"Preferences de l'etudiant {}\".format(etudiant),\" : {}\".format(prefEtudiantLibre) , file=file)\n",
    "        # On prend le choix n de l'etudiant\n",
    "        etablissement = prefEtudiantLibre[suivant[etudiant]] \n",
    "        print(\"Le choix numero : {}\".format(suivant[etudiant]),\" de l'etudiant : {}\".format(etudiant) ,\" est  : {}\".format(etablissement), file=file)\n",
    "        # On prend le classement de l'elève\n",
    "        prefEtablissementEleve = prefEtablissement[etablissement]\n",
    "        print(\"Classement de l'elève : {}\".format(prefEtablissementEleve), file=file)\n",
    "        # On prend l'etudiant actuellement affecte à cet etablissement\n",
    "        etudiantActuel = affectationEtablissement[etablissement]\n",
    "       \n",
    "        \n",
    "        if etudiantActuel == None:\n",
    "          #Si il n'y a pas d'etudiant dejà affecte à cet etablissement la demande est accepte\n",
    "          affectationEtablissement[etablissement] = etudiant\n",
    "          affectationEtudiant[etudiant] = etablissement\n",
    "          print(\"Aucun etudiant n'est dejà affecte a cet etablissement.\", file=file)\n",
    "          print(\"{}\".format(etudiant),\" affecte à l'etablissement : {}\".format(etablissement), file=file)\n",
    "          print(\"Affectation des etablissements : {}\".format(affectationEtablissement), file=file)\n",
    "          print(\"Affectation des etudiants : {}\".format(affectationEtudiant), file=file)\n",
    "          #Son choix suivant passe à la femme suivante dans sa liste\n",
    "          suivant[etudiant] = suivant[etudiant] + 1\n",
    "          #On l'enlève de la liste des etudiants libres\n",
    "          etudiantLibre.pop(0)\n",
    "        else:\n",
    "          #Si il y a dejà un etudiant affecte à cet etablissement\n",
    "          print(\"Preferences de l'etablissement : {}\".format(prefEtablissementEleve), file=file)\n",
    "          print(\"L'etudiant : {}\".format(etudiantActuel),\" est deja affecte à l'etablissement {}\".format(etablissement) , file=file)\n",
    "\n",
    "          # On regarde les preferences de l'etablissement pour les 2 elèves\n",
    "          indexEtudiantActuel = prefEtablissementEleve.index(etudiantActuel)\n",
    "          \n",
    "          indexEtudiant2 = prefEtablissementEleve.index(etudiant)\n",
    "          \n",
    "          if indexEtudiantActuel > indexEtudiant2:\n",
    "             #L'etablissement prefere le nouvel etudiant\n",
    "             print(\"{}\".format(etudiant),\" est prefere à {}\".format(etudiantActuel),  file=file)\n",
    "             affectationEtablissement[etablissement] = etudiant\n",
    "             print(\"{}\".format(etudiant),\" affecte à l'etablissement : {}\".format(etablissement), file=file)\n",
    "             affectationEtudiant[etudiant] = etablissement\n",
    "             suivant[etudiant] = suivant[etudiant] + 1\n",
    "             #On l'enlève de la liste des etudiants libres\n",
    "             etudiantLibre.pop(0)\n",
    "             #L'autre etudiant n'a plus d'etablissement\n",
    "             etudiantLibre.insert(0,etudiantActuel)\n",
    "          else:\n",
    "            print(\"{}\".format(etudiantActuel),\" est prefere à {}\".format(etudiant), file=file)\n",
    "            print(\"Son choix {}\".format(suivant[etudiant]),\" est refuse {}\", file=file)\n",
    "            suivant[etudiant] = suivant[etudiant] + 1\n",
    "             \n",
    "           \n",
    "    \n",
    "  \n",
    "    return affectationEtudiant"
   ]
  },
  {
   "cell_type": "markdown",
   "metadata": {},
   "source": [
    "Sortie :\n",
    "\n",
    "    Liste des affectations par couple"
   ]
  },
  {
   "cell_type": "code",
   "execution_count": 129,
   "metadata": {},
   "outputs": [
    {
     "name": "stdout",
     "output_type": "stream",
     "text": [
      "[64, 932, 302, 552, 254, 481, 316, 456, 627, 95, 167, 658, 532, 555, 745, 791, 280, 891, 969, 203, 904, 4, 917, 786, 462, 186, 841, 933, 63, 138, 149, 693, 124, 701, 668, 907, 820, 333, 974, 538, 990, 684, 955, 757, 685, 790, 956, 855, 623, 557, 612, 524, 54, 251, 723, 74, 200, 601, 9, 864, 630, 129, 998, 2, 217, 440, 131, 154, 269, 908, 657, 469, 906, 430, 389, 198, 507, 359, 168, 533, 42, 709, 155, 59, 253, 772, 127, 459, 741, 60, 215, 325, 340, 315, 205, 286, 457, 697, 231, 980, 988, 846, 472, 356, 512, 99, 393, 671, 599, 303, 400, 817, 174, 139, 240, 877, 762, 503, 375, 148, 609, 579, 282, 924, 529, 93, 564, 111, 578, 386, 735, 22, 34, 202, 553, 766, 485, 427, 879, 852, 554, 611, 412, 794, 101, 351, 953, 950, 582, 561, 628, 134, 978, 497, 776, 952, 886, 58, 960, 721, 152, 97, 490, 78, 914, 435, 548, 55, 897, 328, 987, 109, 895, 758, 305, 265, 707, 128, 388, 866, 661, 748, 165, 56, 169, 832, 784, 839, 345, 637, 32, 896, 354, 652, 483, 662, 68, 916, 732, 966, 787, 870, 276, 498, 706, 107, 971, 573, 422, 750, 688, 53, 106, 192, 306, 683, 574, 516, 271, 377, 765, 405, 525, 802, 593, 324, 51, 717, 621, 264, 476, 255, 848, 23, 508, 110, 267, 417, 531, 544, 603, 961, 270, 29, 725, 550, 861, 844, 636, 105, 437, 338, 176, 178, 80, 640, 185, 649, 246, 752, 410, 888, 221, 595, 727, 682, 94, 17, 838, 804, 371, 366, 278, 659, 384, 715, 465, 936, 141, 262, 551, 308, 881, 731, 828, 559, 323, 407, 812, 344, 704, 903, 560, 172, 923, 188, 600, 825, 862, 779, 266, 163, 902, 287, 995, 948, 581, 210, 398, 747, 761, 535, 915, 408, 819, 403, 401, 663, 318, 142, 37, 195, 147, 76, 585, 226, 713, 632, 913, 587, 312, 901, 46, 692, 972, 150, 180, 808, 634, 676, 749, 247, 123, 421, 235, 863, 767, 781, 617, 33, 875, 402, 243, 10, 263, 935, 959, 448, 885, 884, 191, 673, 261, 342, 320, 837, 220, 949, 660, 672, 216, 728, 260, 641, 482, 470, 518, 826, 629, 878, 778, 502, 722, 114, 146, 208, 211, 513, 702, 816, 887, 726, 12, 744, 997, 970, 239, 927, 373, 645, 597, 999, 381, 363, 332, 164, 619, 189, 455, 204, 21, 321, 341, 496, 992, 284, 383, 406, 940, 705, 626, 28, 130, 223, 733, 876, 592, 156, 259, 277, 213, 90, 712, 769, 190, 489, 434, 69, 47, 506, 618, 295, 18, 625, 549, 85, 89, 584, 329, 201, 298, 815, 319, 57, 926, 500, 143, 814, 708, 187, 591, 353, 411, 570, 87, 975, 160, 245, 558, 674, 981, 650, 677, 871, 568, 322, 894, 602, 796, 833, 973, 530, 849, 281, 241, 823, 414, 104, 565, 369, 622, 522, 81, 821, 8, 505, 939, 418, 773, 415, 569, 994, 159, 893, 938, 510, 299, 334, 543, 527, 140, 536, 98, 504, 120, 910, 764, 931, 488, 737, 610, 499, 19, 289, 753, 760, 583, 734, 716, 372, 806, 691, 711, 30, 989, 699, 133, 171, 941, 399, 850, 358, 48, 541, 644, 460, 70, 918, 835, 77, 696, 385, 471, 79, 491, 183, 801, 511, 83, 979, 665, 736, 905, 614, 480, 103, 681, 464, 73, 648, 780, 892, 442, 528, 230, 348, 563, 100, 151, 539, 567, 458, 39, 71, 797, 24, 925, 842, 768, 331, 803, 494, 777, 788, 545, 158, 874, 428, 96, 664, 374, 763, 515, 789, 851, 438, 475, 420, 431, 514, 297, 248, 678, 740, 416, 20, 911, 115, 620, 968, 900, 450, 830, 509, 206, 447, 542, 391, 962, 449, 360, 362, 50, 443, 409, 598, 868, 441, 580, 347, 654, 392, 445, 234, 357, 811, 813, 669, 426, 275, 225, 452, 88, 703, 982, 523, 991, 770, 43, 404, 942, 379, 836, 700, 227, 175, 352, 3, 859, 947, 314, 880, 170, 608, 343, 119, 810, 484, 367, 364, 31, 294, 45, 809, 184, 49, 446, 35, 244, 690, 0, 177, 91, 977, 993, 252, 272, 237, 62, 273, 121, 827, 759, 983, 26, 283, 964, 655, 957, 606, 310, 250, 258, 439, 730, 6, 720, 466, 845, 774, 754, 218, 743, 847, 495, 274, 14, 689, 501, 113, 883, 807, 387, 963, 944, 857, 526, 473, 349, 40, 951, 355, 589, 615, 710, 666, 161, 985, 197, 856, 376, 350, 605, 920, 930, 27, 424, 290, 873, 313, 474, 92, 739, 219, 493, 339, 182, 444, 742, 937, 898, 238, 467, 65, 858, 643, 242, 519, 793, 309, 478, 67, 651, 616, 199, 44, 118, 633, 635, 396, 882, 840, 521, 451, 590, 11, 194, 534, 586, 307, 249, 304, 800, 843, 382, 517, 84, 929, 670, 613, 36, 785, 912, 860, 751, 41, 656, 5, 775, 394, 822, 675, 337, 562, 686, 117, 869, 679, 719, 798, 292, 207, 714, 122, 397, 718, 311, 16, 909, 116, 829, 365, 795, 256, 594, 520, 317, 346, 212, 547, 86, 958, 144, 135, 943, 327, 301, 285, 756, 996, 7, 380, 336, 429, 361, 576, 279, 209, 193, 577, 783, 257, 419, 1, 934, 853, 680, 492, 13, 653, 965, 233, 556, 413, 984, 694, 945, 436, 638, 867, 162, 224, 330, 575, 487, 166, 232, 824, 976, 222, 153, 695, 805, 899, 624, 537, 335, 572, 25, 729, 72, 647, 596, 889, 326, 433, 61, 136, 368, 954, 378, 390, 486, 646, 112, 571, 667, 834, 432, 461, 468, 236, 293, 771, 296, 181, 946, 52, 755, 38, 540, 132, 922, 463, 179, 724, 75, 395, 454, 479, 631, 145, 921, 291, 423, 214, 228, 854, 604, 300, 607, 82, 782, 919, 196, 687, 746, 477, 792, 799, 126, 967, 229, 425, 928, 125, 831, 566, 738, 865, 890, 108, 102, 137, 288, 268, 15, 872, 698, 818, 639, 642, 173, 453, 546, 157, 986, 66, 370, 588]\n",
      "Le détail du résultat est dans resultat.txt\n"
     ]
    }
   ],
   "source": [
    "res = attribution(len(prefEtudiant), prefEtudiant, prefEtablissement)\n",
    "print(\"  \", file=file)\n",
    "print(\"----------------------------------RESULTATS-----------------------------------------\", file=file)\n",
    "print(\"  \", file=file)\n",
    "print(\"{}\".format(res), file= file)\n",
    "print(res)\n",
    "print(\"Le détail du résultat est dans resultat.txt\")\n"
   ]
  },
  {
   "cell_type": "markdown",
   "metadata": {},
   "source": [
    "On teste s'il n'y a pas de doublons"
   ]
  },
  {
   "cell_type": "code",
   "execution_count": 130,
   "metadata": {},
   "outputs": [
    {
     "name": "stdout",
     "output_type": "stream",
     "text": [
      "[]\n"
     ]
    }
   ],
   "source": [
    "print(\"{}\".format(list(duplicates(res))))\n",
    "# Si la fonction renvoie [] s'il n'y a pas de doublons"
   ]
  },
  {
   "cell_type": "code",
   "execution_count": 131,
   "metadata": {},
   "outputs": [],
   "source": [
    "file.close()"
   ]
  },
  {
   "cell_type": "code",
   "execution_count": 132,
   "metadata": {},
   "outputs": [
    {
     "name": "stdout",
     "output_type": "stream",
     "text": [
      "7231\n"
     ]
    },
    {
     "data": {
      "text/plain": [
       "126200"
      ]
     },
     "execution_count": 132,
     "metadata": {},
     "output_type": "execute_result"
    }
   ],
   "source": [
    "# retourne la somme des priorités (0, 1, 2) recues dans cette attribution\n",
    "def etudiantSatisfaction(n, attribution, prefEtudiant, prefEtablissement, fonction):\n",
    "    result = 0\n",
    "    for etudiant,etablissement in enumerate(attribution):\n",
    "        result = result + prefEtudiant[etudiant].index(etablissement) # ajoute 0, 1 ou 2\n",
    "        # print(prefEtudiant[etudiant].indeetablissement))\n",
    "    return result \n",
    "\n",
    "def etablissmentSatisfaction(n, attribution, prefEtudiant, prefEtablissement, fonction):\n",
    "    result = 0\n",
    "    for etudiant,etablissement in enumerate(attribution):\n",
    "        result = result + prefEtablissement[etablissement].index(etudiant) # ajoute 0, 1 ou 2\n",
    "        # print(prefEtudiant[etudiant].indeetablissement))\n",
    "    return result \n",
    "\n",
    "def fonctionLineaire(x):\n",
    "    return x\n",
    "\n",
    "print(etudiantSatisfaction(len(prefEtudiant), res, prefEtudiant, prefEtablissement, fonctionLineaire))\n",
    "etablissmentSatisfaction(len(prefEtudiant), res, prefEtudiant, prefEtablissement, fonctionLineaire)"
   ]
  }
 ],
 "metadata": {
  "kernelspec": {
   "display_name": "Python 3.9.7 ('base')",
   "language": "python",
   "name": "python3"
  },
  "language_info": {
   "codemirror_mode": {
    "name": "ipython",
    "version": 3
   },
   "file_extension": ".py",
   "mimetype": "text/x-python",
   "name": "python",
   "nbconvert_exporter": "python",
   "pygments_lexer": "ipython3",
   "version": "3.9.7"
  },
  "orig_nbformat": 4,
  "vscode": {
   "interpreter": {
    "hash": "ad2bdc8ecc057115af97d19610ffacc2b4e99fae6737bb82f5d7fb13d2f2c186"
   }
  }
 },
 "nbformat": 4,
 "nbformat_minor": 2
}
