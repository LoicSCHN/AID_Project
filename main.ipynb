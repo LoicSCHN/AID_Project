{
 "cells": [
  {
   "cell_type": "markdown",
   "metadata": {},
   "source": [
    "# Import"
   ]
  },
  {
   "cell_type": "code",
   "execution_count": 112,
   "metadata": {},
   "outputs": [
    {
     "name": "stdout",
     "output_type": "stream",
     "text": [
      "Requirement already satisfied: pandas in c:\\programdata\\anaconda3\\lib\\site-packages (1.3.4)\n",
      "Requirement already satisfied: python-dateutil>=2.7.3 in c:\\programdata\\anaconda3\\lib\\site-packages (from pandas) (2.8.2)\n",
      "Requirement already satisfied: numpy>=1.17.3 in c:\\programdata\\anaconda3\\lib\\site-packages (from pandas) (1.20.3)\n",
      "Requirement already satisfied: pytz>=2017.3 in c:\\programdata\\anaconda3\\lib\\site-packages (from pandas) (2021.3)\n",
      "Requirement already satisfied: six>=1.5 in c:\\programdata\\anaconda3\\lib\\site-packages (from python-dateutil>=2.7.3->pandas) (1.16.0)\n"
     ]
    }
   ],
   "source": [
    "!pip install pandas"
   ]
  },
  {
   "cell_type": "code",
   "execution_count": 113,
   "metadata": {},
   "outputs": [
    {
     "data": {
      "text/plain": [
       "0"
      ]
     },
     "execution_count": 113,
     "metadata": {},
     "output_type": "execute_result"
    }
   ],
   "source": [
    "import subprocess\n",
    "subprocess.check_call([sys.executable, \"-m\", \"pip\", \"install\", \"iteration_utilities\"])"
   ]
  },
  {
   "cell_type": "code",
   "execution_count": 114,
   "metadata": {},
   "outputs": [],
   "source": [
    "import pandas as pd\n",
    "\n",
    "from iteration_utilities import duplicates"
   ]
  },
  {
   "cell_type": "markdown",
   "metadata": {},
   "source": [
    "On appelle le generateur de preference "
   ]
  },
  {
   "cell_type": "code",
   "execution_count": 115,
   "metadata": {},
   "outputs": [
    {
     "data": {
      "text/plain": [
       "0"
      ]
     },
     "execution_count": 115,
     "metadata": {},
     "output_type": "execute_result"
    }
   ],
   "source": [
    "subprocess.call(\"generator.py\", shell=True)"
   ]
  },
  {
   "cell_type": "markdown",
   "metadata": {},
   "source": [
    "# Variables"
   ]
  },
  {
   "cell_type": "markdown",
   "metadata": {},
   "source": [
    "Entree : \n",
    "\n",
    "    Deux ensembles d'elèves et d'etablissement avec leur preference;\n",
    "\n",
    "    Une famille L de relations de preferences ;"
   ]
  },
  {
   "cell_type": "code",
   "execution_count": 116,
   "metadata": {},
   "outputs": [],
   "source": [
    "prefEtudiant = pd.read_csv(\"fichierEleves.csv\", header=None, sep = \",\").values.tolist() \n",
    "\n",
    "prefEtablissement = pd.read_csv(\"fichierEtablissements.csv\", header=None, sep = \",\").values.tolist()"
   ]
  },
  {
   "cell_type": "markdown",
   "metadata": {},
   "source": [
    "# Algorithme"
   ]
  },
  {
   "cell_type": "markdown",
   "metadata": {},
   "source": [
    "\n",
    "Etape 0 : chaque elève soumet une liste ordonnee de vœux  \n",
    "Etape 1 : on ne considère que les vœux de rang 1  \n",
    " * chaque ecole considère les elèves qui l’ont classee en 1er vœu  \n",
    " * chaque ecole accepte temporairement les mieux classes dans la limite des places disponibles et rejette les autres.  \n",
    "\n",
    ". . .  \n",
    "\n",
    "Etape k : les elèves rejetes à l’etape precedente candidatent\n",
    "sur leur vœu suivant  \n",
    " * chaque ecole considère conjointement les elèves precedemment\n",
    "admis et les elèves lui faisant une offre à cette etape  \n",
    " * les mieux classes sont temporairement acceptes et les autres\n",
    "sont rejetes  \n",
    "L’algorithme se termine au bout d’un nombre fini d’iterations\n",
    "lorsque plus aucun elève n’est rejete."
   ]
  },
  {
   "cell_type": "code",
   "execution_count": 117,
   "metadata": {},
   "outputs": [],
   "source": [
    "file = open(\"resultat.txt\", \"w\") "
   ]
  },
  {
   "cell_type": "code",
   "execution_count": 118,
   "metadata": {},
   "outputs": [],
   "source": [
    "def attribution(n, prefEtudiant, prefEtablissement):\n",
    "    print(\"Tous les etudiants sont libres au debut : \", file=file)\n",
    "    etudiantLibre = list(range(n))\n",
    "    print(\"Liste des etudiants libres : {}\".format(etudiantLibre), file=file)\n",
    "    # Aucun etudiant n'a d'affectation\n",
    "    affectationEtudiant = [None] * n     \n",
    "    print(\"affectation etudiant {}\".format(affectationEtudiant), file=file)                 \n",
    "    # Aucun etablissement n'a d'etudiant\n",
    "    affectationEtablissement = [None] * n  \n",
    "    print(\"affectation etablissement {}\".format(affectationEtablissement), file=file)                    \n",
    "    # Aucun etudiant n'a fait de proposition on est donc sur le choix 1 (0) de chaque etudiant\n",
    "    suivant = [0] * n  \n",
    "    print(\"suivant : {}\".format(suivant), file=file)                     \n",
    "    etape = 0\n",
    "    # Tant que tous les etudiants n'ont pas d'affectation:\n",
    "    while etudiantLibre:\n",
    "        etape = etape +1\n",
    "        print(\"  \", file=file)\n",
    "        print(\"-------------------------------------------------------------------------------------------\", file=file)\n",
    "        print(\"  \", file=file)\n",
    "        print(\"Etape : {}\".format(etape), file=file)\n",
    "        # On prend le premier des etudiants lilbres\n",
    "        etudiant = etudiantLibre[0] \n",
    "        print(\"On prend l'etudiant : {}\".format(etudiant), file=file)                     \n",
    "        # On prend ses preferences\n",
    "        prefEtudiantLibre = prefEtudiant[etudiant]  \n",
    "        print(\"Preferences de l'etudiant {}\".format(etudiant),\" : {}\".format(prefEtudiantLibre) , file=file)\n",
    "        # On prend le choix n de l'etudiant\n",
    "        etablissement = prefEtudiantLibre[suivant[etudiant]] \n",
    "        print(\"Le choix numero : {}\".format(suivant[etudiant]),\" de l'etudiant : {}\".format(etudiant) ,\" est  : {}\".format(etablissement), file=file)\n",
    "        # On prend le classement de l'elève\n",
    "        prefEtablissementEleve = prefEtablissement[etablissement]\n",
    "        print(\"Classement de l'elève : {}\".format(prefEtablissementEleve), file=file)\n",
    "        # On prend l'etudiant actuellement affecte à cet etablissement\n",
    "        etudiantActuel = affectationEtablissement[etablissement]\n",
    "       \n",
    "        \n",
    "        if etudiantActuel == None:\n",
    "          #Si il n'y a pas d'etudiant dejà affecte à cet etablissement la demande est accepte\n",
    "          affectationEtablissement[etablissement] = etudiant\n",
    "          affectationEtudiant[etudiant] = etablissement\n",
    "          print(\"Aucun etudiant n'est dejà affecte a cet etablissement.\", file=file)\n",
    "          print(\"{}\".format(etudiant),\" affecte à l'etablissement : {}\".format(etablissement), file=file)\n",
    "          print(\"Affectation des etablissements : {}\".format(affectationEtablissement), file=file)\n",
    "          print(\"Affectation des etudiants : {}\".format(affectationEtudiant), file=file)\n",
    "          #Son choix suivant passe à la femme suivante dans sa liste\n",
    "          suivant[etudiant] = suivant[etudiant] + 1\n",
    "          #On l'enlève de la liste des etudiants libres\n",
    "          etudiantLibre.pop(0)\n",
    "        else:\n",
    "          #Si il y a dejà un etudiant affecte à cet etablissement\n",
    "          print(\"Preferences de l'etablissement : {}\".format(prefEtablissementEleve), file=file)\n",
    "          print(\"L'etudiant : {}\".format(etudiantActuel),\" est deja affecte à l'etablissement {}\".format(etablissement) , file=file)\n",
    "\n",
    "          # On regarde les preferences de l'etablissement pour les 2 elèves\n",
    "          indexEtudiantActuel = prefEtablissementEleve.index(etudiantActuel)\n",
    "          \n",
    "          indexEtudiant2 = prefEtablissementEleve.index(etudiant)\n",
    "          \n",
    "          if indexEtudiantActuel > indexEtudiant2:\n",
    "             #L'etablissement prefere le nouvel etudiant\n",
    "             print(\"{}\".format(etudiant),\" est prefere à {}\".format(etudiantActuel),  file=file)\n",
    "             affectationEtablissement[etablissement] = etudiant\n",
    "             print(\"{}\".format(etudiant),\" affecte à l'etablissement : {}\".format(etablissement), file=file)\n",
    "             affectationEtudiant[etudiant] = etablissement\n",
    "             suivant[etudiant] = suivant[etudiant] + 1\n",
    "             #On l'enlève de la liste des etudiants libres\n",
    "             etudiantLibre.pop(0)\n",
    "             #L'autre etudiant n'a plus d'etablissement\n",
    "             etudiantLibre.insert(0,etudiantActuel)\n",
    "          else:\n",
    "            print(\"{}\".format(etudiantActuel),\" est prefere à {}\".format(etudiant), file=file)\n",
    "            print(\"Son choix {}\".format(suivant[etudiant]),\" est refuse {}\", file=file)\n",
    "            suivant[etudiant] = suivant[etudiant] + 1\n",
    "             \n",
    "           \n",
    "    \n",
    "  \n",
    "    return affectationEtudiant"
   ]
  },
  {
   "cell_type": "markdown",
   "metadata": {},
   "source": [
    "Sortie :\n",
    "\n",
    "    Liste des affectations par couple"
   ]
  },
  {
   "cell_type": "code",
   "execution_count": 119,
   "metadata": {},
   "outputs": [],
   "source": [
    "res = attribution(len(prefEtudiant), prefEtudiant, prefEtablissement)\n",
    "print(\"  \", file=file)\n",
    "print(\"----------------------------------RESULTATS-----------------------------------------\", file=file)\n",
    "print(\"  \", file=file)\n",
    "print(\"{}\".format(res), file= file)\n",
    "print(res)\n",
    "print(\"Le détail du résultat est dans resultat.txt\")\n"
   ]
  },
  {
   "cell_type": "markdown",
   "metadata": {},
   "source": [
    "On teste s'il n'y a pas de doublons"
   ]
  },
  {
   "cell_type": "code",
   "execution_count": 120,
   "metadata": {},
   "outputs": [
    {
     "name": "stdout",
     "output_type": "stream",
     "text": [
      "[]\n"
     ]
    }
   ],
   "source": [
    "print(\"{}\".format(list(duplicates(res))))\n",
    "# Si la fonction renvoie [] s'il n'y a pas de doublons"
   ]
  },
  {
   "cell_type": "code",
   "execution_count": 121,
   "metadata": {},
   "outputs": [],
   "source": [
    "file.close()"
   ]
  }
 ],
 "metadata": {
  "kernelspec": {
   "display_name": "Python 3.9.7 ('base')",
   "language": "python",
   "name": "python3"
  },
  "language_info": {
   "codemirror_mode": {
    "name": "ipython",
    "version": 3
   },
   "file_extension": ".py",
   "mimetype": "text/x-python",
   "name": "python",
   "nbconvert_exporter": "python",
   "pygments_lexer": "ipython3",
   "version": "3.9.7"
  },
  "orig_nbformat": 4,
  "vscode": {
   "interpreter": {
    "hash": "ad2bdc8ecc057115af97d19610ffacc2b4e99fae6737bb82f5d7fb13d2f2c186"
   }
  }
 },
 "nbformat": 4,
 "nbformat_minor": 2
}
